{
 "cells": [
  {
   "cell_type": "markdown",
   "metadata": {},
   "source": [
    "<img src=\"logo.png\">"
   ]
  },
  {
   "cell_type": "markdown",
   "metadata": {},
   "source": [
    "# Práctica sobre el cáncer\n",
    "\n",
    "Hablemos del [FNA](https://en.wikipedia.org/wiki/Fine-needle_aspiration) (fine needle aspiration); básicamente es un procedimiento que consiste en tomar una gota de fluido de un tumor usando una aguja muy delgada. El fluido obtenido se vierte en un vidrio tintado para generar una imagen digital.\n",
    "\n",
    "<img src=\"fna.png\" width=\"700\">"
   ]
  },
  {
   "cell_type": "markdown",
   "metadata": {},
   "source": [
    "De esa imagen, se extraen 10 características de los bordes celulares (radio, perímetro, área, simetría, etc). Se calcula la media, la desviación y el máximo para cada una de esas características.\n",
    "\n",
    "Para cada paciente, se anotan esas tres características y, con base en ellas, se diagnostica si es un tipo maligno o benigno, de modo que obtenemos $10\\cdot 3+1=31$ datos. \n",
    "\n",
    "En el archivo de [cáncer](https://github.com/scidatmath2020/Python-y-R-en-Estadistica-Multivariante/blob/main/cancer.csv) tenemos una tabla con 569 pacientes y sus respectivas 31 características (y una extra: el número identificador del paciente).\n",
    "\n",
    "Lo que haremos será estudiar esa tabla."
   ]
  },
  {
   "cell_type": "code",
   "execution_count": null,
   "metadata": {},
   "outputs": [],
   "source": [
    "import numpy as np\n",
    "import scipy as sc\n",
    "import pandas as pd\n",
    "import seaborn as sns\n",
    "import matplotlib.pyplot as plt\n",
    "import plotly.express as px\n"
   ]
  },
  {
   "cell_type": "code",
   "execution_count": null,
   "metadata": {},
   "outputs": [],
   "source": [
    "from math import pi\n",
    "from pandas.plotting import scatter_matrix\n",
    "from pandas.plotting import andrews_curves"
   ]
  },
  {
   "cell_type": "code",
   "execution_count": null,
   "metadata": {},
   "outputs": [],
   "source": [
    "# Leemos el archivo. Recuerda escribir la ruta donde descargaste el archivo de cáncer.\n",
    "\n",
    "cancer = pd.read_csv(\"C:/Users/hp master/Documents/SciData/Est_Mult/Mod01. Espacios multivariantes/C01. Mediciones con multiples variables/cancer.csv\",index_col=\"id\")"
   ]
  },
  {
   "cell_type": "code",
   "execution_count": null,
   "metadata": {},
   "outputs": [],
   "source": [
    "cancer.head()"
   ]
  },
  {
   "cell_type": "markdown",
   "metadata": {},
   "source": [
    "¿Cuántos individuos tienen cáncer maligno y cuántos no? \n",
    "\n",
    "Mostrar esta información gráficamente."
   ]
  },
  {
   "cell_type": "code",
   "execution_count": null,
   "metadata": {},
   "outputs": [],
   "source": [
    "cancer[\"diagnosis\"].value_counts()"
   ]
  },
  {
   "cell_type": "code",
   "execution_count": null,
   "metadata": {},
   "outputs": [],
   "source": [
    "sns.countplot(\"diagnosis\",data=cancer)\n",
    "plt.show()\n"
   ]
  },
  {
   "cell_type": "code",
   "execution_count": null,
   "metadata": {},
   "outputs": [],
   "source": [
    "cancer[\"diagnosis\"] = cancer[\"diagnosis\"].astype(\"category\")"
   ]
  },
  {
   "cell_type": "code",
   "execution_count": null,
   "metadata": {},
   "outputs": [],
   "source": [
    "cancer.info()"
   ]
  },
  {
   "cell_type": "markdown",
   "metadata": {},
   "source": [
    "Observamos que las variable 32 no nos sirve. Procedemos a eliminarla: "
   ]
  },
  {
   "cell_type": "code",
   "execution_count": null,
   "metadata": {},
   "outputs": [],
   "source": [
    "cancer.drop(\"Unnamed: 32\",axis=1,inplace=True)"
   ]
  },
  {
   "cell_type": "code",
   "execution_count": null,
   "metadata": {},
   "outputs": [],
   "source": [
    "cancer.info()"
   ]
  },
  {
   "cell_type": "code",
   "execution_count": null,
   "metadata": {},
   "outputs": [],
   "source": [
    "cancer.shape"
   ]
  },
  {
   "cell_type": "markdown",
   "metadata": {},
   "source": [
    "Hay valores nulos?"
   ]
  },
  {
   "cell_type": "code",
   "execution_count": null,
   "metadata": {},
   "outputs": [],
   "source": [
    "print(\"Hay valores nulos?\\n \",cancer.isnull().values.any())"
   ]
  },
  {
   "cell_type": "markdown",
   "metadata": {},
   "source": [
    "Hacer un boxplot"
   ]
  },
  {
   "cell_type": "code",
   "execution_count": null,
   "metadata": {},
   "outputs": [],
   "source": [
    "plt.figure(figsize=(20,20)) #controla el tamaño del gráfico\n",
    "sns.boxplot(data = cancer)\n",
    "plt.xticks(rotation=90) #controla la rotación de las etiquetas en el eje X\n",
    "plt.show()"
   ]
  },
  {
   "cell_type": "markdown",
   "metadata": {},
   "source": [
    "Como se puede observar, hay muchos valores atípicos que dificultan la lectura de la gráfica. Estandaricemos cada característica para obtener una mejor visualización."
   ]
  },
  {
   "cell_type": "code",
   "execution_count": null,
   "metadata": {},
   "outputs": [],
   "source": [
    "cancer_numerico = cancer[cancer.columns[1:]] #crea una nueva tabla, cancer_estandarizado, que no contiene diagnosis"
   ]
  },
  {
   "cell_type": "code",
   "execution_count": null,
   "metadata": {},
   "outputs": [],
   "source": [
    "cancer_numerico.head()"
   ]
  },
  {
   "cell_type": "code",
   "execution_count": null,
   "metadata": {},
   "outputs": [],
   "source": [
    "!pip install sklearn"
   ]
  },
  {
   "cell_type": "code",
   "execution_count": null,
   "metadata": {},
   "outputs": [],
   "source": [
    "from sklearn.preprocessing import StandardScaler"
   ]
  },
  {
   "cell_type": "code",
   "execution_count": null,
   "metadata": {},
   "outputs": [],
   "source": [
    "scaler = StandardScaler()\n",
    "caracteristicas_escaladas = scaler.fit_transform(cancer_numerico.values)\n",
    "cancer_estandarizado = pd.DataFrame(caracteristicas_escaladas,\\\n",
    "                                       index = cancer_numerico.index,\\\n",
    "                                       columns=cancer_numerico.columns)\n",
    "cancer_estandarizado"
   ]
  },
  {
   "cell_type": "code",
   "execution_count": null,
   "metadata": {},
   "outputs": [],
   "source": [
    "plt.figure(figsize=(14,8)) #controla el tamaño del gráfico\n",
    "sns.boxplot(data = cancer_estandarizado)\n",
    "plt.xticks(rotation=90) #controla la rotación de las etiquetas en el eje X\n",
    "plt.show()"
   ]
  },
  {
   "cell_type": "markdown",
   "metadata": {},
   "source": [
    "Un **enfoque estadístico robusto** habría considerado valores atípicos a todos los valores que superan 3 (o 2.5) en el eje Y. sin embargo, dado el rango limitado de distribución de datos (de aproximadamente -2.5 a aproximadamente +11) y la disponibilidad de datos que no es muy alta (solo 569 observaciones), se podría utilizar un enfoque \"visual\" para la detección de los valores atípicos (basado en densidad de los puntos por encima de un umbral específico). Por ejemplo, eliminar las observaciones que superan el valor 6.\n",
    "\n",
    "Los valores atípicos podrían ser indicativos de datos incorrectos, procedimientos erróneos o áreas experimentales donde algunas teorías pueden no ser válidas. Antes de eliminarlos, deberíamos discutir con expertos en este dominio para entender por qué estos datos no son válidos (por ejemplo, el equipo de medición falló, el método de medición fue poco confiable por alguna razón, había contaminantes, etc)."
   ]
  },
  {
   "cell_type": "code",
   "execution_count": null,
   "metadata": {},
   "outputs": [],
   "source": [
    "#Eliminar atípicos\n",
    "\n",
    "cancer_limpio=cancer_estandarizado[cancer_estandarizado.apply(lambda x: np.abs(x - x.mean()) / x.std() < 6).all(axis=1)]\n",
    "cancer_limpio.shape"
   ]
  },
  {
   "cell_type": "code",
   "execution_count": null,
   "metadata": {},
   "outputs": [],
   "source": [
    "cancer_limpio[\"Id\"] = cancer_limpio.index\n",
    "cancer[\"Id\"] = cancer.index"
   ]
  },
  {
   "cell_type": "code",
   "execution_count": null,
   "metadata": {},
   "outputs": [],
   "source": [
    "cancer_limpio.info()"
   ]
  },
  {
   "cell_type": "code",
   "execution_count": null,
   "metadata": {},
   "outputs": [],
   "source": [
    "cancer.info()"
   ]
  },
  {
   "cell_type": "code",
   "execution_count": null,
   "metadata": {},
   "outputs": [],
   "source": [
    "plt.figure(figsize=(14,8))\n",
    "sns.boxplot( data = cancer_limpio[cancer_limpio.columns[:30]])\n",
    "plt.xticks(rotation=90)  \n",
    "plt.tight_layout()"
   ]
  },
  {
   "cell_type": "markdown",
   "metadata": {},
   "source": [
    "# Boxplots para cada variable divididos por grupos en Especie\n",
    "\n"
   ]
  },
  {
   "cell_type": "code",
   "execution_count": null,
   "metadata": {},
   "outputs": [],
   "source": [
    "cancer[[\"Id\",\"diagnosis\"]]"
   ]
  },
  {
   "cell_type": "code",
   "execution_count": null,
   "metadata": {},
   "outputs": [],
   "source": [
    "cancer_limpio_diagnostico = cancer_limpio.join(cancer[[\"Id\",\"diagnosis\"]].set_index([\"Id\"]),on=[\"Id\"],how=\"inner\")\n",
    "cancer_limpio_diagnostico.head()"
   ]
  },
  {
   "cell_type": "code",
   "execution_count": null,
   "metadata": {},
   "outputs": [],
   "source": [
    "cancer_limpio_diagnostico.drop(\"Id\",axis=1,inplace = True)"
   ]
  },
  {
   "cell_type": "code",
   "execution_count": null,
   "metadata": {},
   "outputs": [],
   "source": [
    "cancer_limpio_diagnostico.info()"
   ]
  },
  {
   "cell_type": "code",
   "execution_count": null,
   "metadata": {},
   "outputs": [],
   "source": [
    "plt.figure(figsize=(14,8))\n",
    "cancer_limpio_diagnostico.boxplot(by=\"diagnosis\",figsize=(24,12))\n",
    "plt.xticks(rotation=90)\n",
    "plt.show()"
   ]
  },
  {
   "cell_type": "code",
   "execution_count": null,
   "metadata": {},
   "outputs": [],
   "source": [
    "cancer_limpio_diagnostico.shape"
   ]
  },
  {
   "cell_type": "markdown",
   "metadata": {},
   "source": [
    "Convertimos la variable diagnostico a una representación numérica"
   ]
  },
  {
   "cell_type": "code",
   "execution_count": null,
   "metadata": {},
   "outputs": [],
   "source": [
    "cancer[\"diagnosis\"] = cancer[\"diagnosis\"].map({\"M\":1,\"B\":0})"
   ]
  },
  {
   "cell_type": "code",
   "execution_count": null,
   "metadata": {},
   "outputs": [],
   "source": [
    "cancer[\"diagnosis\"].value_counts()"
   ]
  },
  {
   "cell_type": "markdown",
   "metadata": {},
   "source": [
    "Dividimos la tabla en tres tablas dependiendo del tipo de medida de las características."
   ]
  },
  {
   "cell_type": "code",
   "execution_count": null,
   "metadata": {},
   "outputs": [],
   "source": [
    "caracteristicas_media = list(cancer.columns[1:11])\n",
    "caracteristicas_sd = list(cancer.columns[11:21])\n",
    "caracteristicas_max = list(cancer.columns[21:31])"
   ]
  },
  {
   "cell_type": "code",
   "execution_count": null,
   "metadata": {},
   "outputs": [],
   "source": [
    "print(caracteristicas_media, \"\\n\",caracteristicas_sd,\"\\n\",caracteristicas_max)"
   ]
  },
  {
   "cell_type": "code",
   "execution_count": null,
   "metadata": {},
   "outputs": [],
   "source": [
    "from pandas.plotting import scatter_matrix"
   ]
  },
  {
   "cell_type": "code",
   "execution_count": null,
   "metadata": {},
   "outputs": [],
   "source": [
    "colores = {0:\"blue\",1:\"red\"}\n",
    "colors = cancer[\"diagnosis\"].map(lambda x: colores.get(x))\n",
    "\n",
    "sm = scatter_matrix(cancer[caracteristicas_media],c=colors,alpha=0.5,figsize=(15,15))\n",
    "\n",
    "#Orientación de los letreros\n",
    "\n",
    "[s.xaxis.label.set_rotation(45) for s in sm.reshape(-1)]\n",
    "[s.yaxis.label.set_rotation(0) for s in sm.reshape(-1)]\n",
    "[s.get_yaxis().set_label_coords(-0.9,0.5) for s in sm.reshape(-1)]\n",
    "[s.set_xticks(()) for s in sm.reshape(-1)]\n",
    "[s.set_yticks(()) for s in sm.reshape(-1)]\n",
    "\n",
    "\n",
    "plt.show()"
   ]
  },
  {
   "cell_type": "code",
   "execution_count": null,
   "metadata": {},
   "outputs": [],
   "source": [
    "caracteristicas_media.append(\"diagnosis\")\n",
    "sns.pairplot(cancer[caracteristicas_media],hue=\"diagnosis\",height=1.5)\n",
    "plt.show()\n",
    "caracteristicas_media = caracteristicas_media[:10]"
   ]
  },
  {
   "cell_type": "code",
   "execution_count": null,
   "metadata": {},
   "outputs": [],
   "source": [
    "cov_matrix = cancer_numerico.cov()\n",
    "corr_matrix = cancer_numerico.corr()"
   ]
  },
  {
   "cell_type": "code",
   "execution_count": null,
   "metadata": {},
   "outputs": [],
   "source": [
    "plt.figure(figsize=(20,20))\n",
    "ax = sns.heatmap(corr_matrix,vmax=1,vmin=-1,cbar_kws={\"shrink\":.8},square=True,annot=True,fmt=\".2f\",cmap=\"GnBu\",center=0)\n"
   ]
  },
  {
   "cell_type": "code",
   "execution_count": null,
   "metadata": {},
   "outputs": [],
   "source": [
    "# Para medias, sd y máximos\n",
    "\n",
    "plt.figure(figsize=(15,7))\n",
    "\n",
    "plt.subplot(1, 3, 1)\n",
    "ax1=sns.heatmap(cancer_numerico[caracteristicas_media].corr(),xticklabels=False, yticklabels=False , cbar = False,  square = True, annot=True, fmt= '.2f',annot_kws={'size': 8},vmax=1, vmin=-1, cmap ='GnBu',center=0)\n",
    "bottom, top = ax1.get_ylim()\n",
    "ax1.set_ylim(bottom + 0.5, top - 0.5)\n",
    "\n",
    "plt.subplot(1, 3, 2)\n",
    "ax2=sns.heatmap(cancer_numerico[caracteristicas_sd].corr(),xticklabels=False, yticklabels=False , cbar = False,  square = True, annot=True, fmt= '.2f',annot_kws={'size': 8},vmax=1, vmin=-1, cmap ='GnBu',center=0)\n",
    "bottom, top = ax2.get_ylim()\n",
    "ax2.set_ylim(bottom + 0.5, top - 0.5)\n",
    "\n",
    "plt.subplot(1, 3, 3)\n",
    "ax3=sns.heatmap(cancer_numerico[caracteristicas_max].corr(),xticklabels=False, yticklabels=False , cbar = False,  square = True, annot=True, fmt= '.2f',annot_kws={'size': 8},vmax=1, vmin=-1, cmap ='GnBu',center=0)\n",
    "bottom, top = ax2.get_ylim()\n",
    "ax2.set_ylim(bottom + 0.5, top - 0.5)"
   ]
  },
  {
   "cell_type": "code",
   "execution_count": null,
   "metadata": {},
   "outputs": [],
   "source": [
    "from pandas.plotting import parallel_coordinates\n",
    "caracteristicas_media.append(\"diagnosis\")\n",
    "parallel_coordinates(cancer_limpio_diagnostico[caracteristicas_media], \"diagnosis\",colormap='cool',xticks=None)\n",
    "plt.show()"
   ]
  },
  {
   "cell_type": "code",
   "execution_count": null,
   "metadata": {},
   "outputs": [],
   "source": [
    "from pandas.plotting import andrews_curves\n",
    "andrews_curves(cancer_limpio_diagnostico[caracteristicas_media], \"diagnosis\",colormap='rainbow')\n",
    "plt.show()"
   ]
  }
 ],
 "metadata": {
  "kernelspec": {
   "display_name": "Python 3",
   "language": "python",
   "name": "python3"
  },
  "language_info": {
   "codemirror_mode": {
    "name": "ipython",
    "version": 3
   },
   "file_extension": ".py",
   "mimetype": "text/x-python",
   "name": "python",
   "nbconvert_exporter": "python",
   "pygments_lexer": "ipython3",
   "version": "3.7.7"
  }
 },
 "nbformat": 4,
 "nbformat_minor": 4
}
