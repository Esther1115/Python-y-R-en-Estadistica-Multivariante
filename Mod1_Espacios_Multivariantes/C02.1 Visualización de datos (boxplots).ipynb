{
 "cells": [
  {
   "cell_type": "markdown",
   "metadata": {},
   "source": [
    "<img src=\"logo.png\">"
   ]
  },
  {
   "cell_type": "markdown",
   "metadata": {},
   "source": [
    "# Visualización de los datos\n",
    "\n",
    "¿Por qué es importante visualizar? Porque es una manera mucho más sencilla de obtener información. ¿Sobre qué vamos a obtener información? Sobre la distribución, sobre si hay simetría o asimetría, si hay multimodalidad, si hay presencia de atípicos o outliers, sobre si nuestros datos pueden agruparse, etc. Entonces la información gráfica va a ser un complemento de la información numérica que podemos obtener en un análisis exploratorio.\n",
    "\n",
    "Ahora bien, el sistema de precepción humano, el que tenemos nosotros, tiene estas características importantes: somos capaces de entender e interpretar gráficos en dos o tres dimensiones, pero más de tres dimensiones no pueden visualizarse de manera tan sencilla.\n",
    "\n",
    "Por lo tanto, los gráficos que vamos a ver van a estar dibujados en dos o en tres dimensiones, pero aprenderemos también cómo representar datos de más de tres dimensiones en este tipo de gráficos.\n",
    "\n",
    "Vamos a graficar las variables de tipo cuantitativas, porque las cualitativas nos van a dar información adicional en los gráficos, no vamos a graficarlas como tal, sino que vamos a utilizar esa información, por ejemplo, para agrupar los datos."
   ]
  },
  {
   "cell_type": "markdown",
   "metadata": {},
   "source": [
    "# Boxplots (diagramas de caja)\n",
    "\n",
    "## Caso de una variable"
   ]
  },
  {
   "cell_type": "markdown",
   "metadata": {},
   "source": [
    "Un boxplot es un gráfico que nos da información sobre localización, desviación, asimetría y valores atípicos. Para construirlo \"a mano\" es necesario calcular algunos estadísticos (un estadístico solo es una medida de los datos)\n",
    "\n",
    "Supongamos que tenemos solamente una variable y $n$ registros (es decir, hicimos $n$ observaciones de una misma característica). Sea $x=(x_1,x_2,...,x_n)$ el vector de los $n$ valores observados. Supongamos que los ordenamos de menor a menor como $$x_{(1)}=\\min\\{x_1,x_2,...,x_n\\}\\le x_{(2)}\\le x_{(3)}\\le...\\le x_{(n)}=\\max\\{x_1,x_2,...,x_n\\}$$ \n",
    "\n",
    "La **mediana** es aquél número que divide a los datos ordenados en dos parte de igual tamaño.  Se define como $$x_{\\left(\\frac{n+1}{2}\\right)}$$ si $n$ es impar y $$\\frac{x_{\\left(\\frac{n}{2}\\right)}+x_{\\left(\\frac{n}{2}+1\\right)}}{2}$$ si $n$ es par.\n",
    "\n",
    "Por ejemplo, si las observaciones fueron $(2,1,6,1,6,2,1,1,5)$, al ordenarlos de menor a mayor tenemos $(1,1,1,1,2,2,5,6,6)$, que son 9 datos. Como 9 es impar, entonces la mediana es $x_{(\\frac{9+1}{2})}=x_{(5)}$. Es decir 2.\n",
    "\n",
    "Los **cuartiles** dividen al conjunto de datos ordenados en 4 partes iguales.\n",
    "\n",
    "<img src=\"quartiles.png\">"
   ]
  },
  {
   "cell_type": "markdown",
   "metadata": {},
   "source": [
    "El rango intercuartílico se define como el bloque que recoge el 50% mas central. Es decir $RI=Q3-Q1$.\n",
    "\n",
    "Las barreras se definen como $B1=Q1-1.5RI$ y $B2=Q3+1.5RI$.\n",
    "\n",
    "<img src=\"barreras.png\">"
   ]
  },
  {
   "attachments": {},
   "cell_type": "markdown",
   "metadata": {},
   "source": [
    "### ¿Cómo hacemos el boxplot?\n",
    "\n",
    "<img src=\"boxplot2.png\">"
   ]
  },
  {
   "cell_type": "markdown",
   "metadata": {},
   "source": [
    "## Caso de varias variables\n",
    "\n",
    "En el caso de varias variables, podemos hacer en un mismo gráfico, los boxplots para todas las variables y dividirlos por grupos en dependencia de valores de variables categóricas."
   ]
  },
  {
   "cell_type": "markdown",
   "metadata": {},
   "source": [
    "<img src=\"boxplot_iris1.png\">\n",
    "<img src=\"boxplot_iris2.png\">\n",
    "\n",
    "También existen los [bagplots](https://stats.stackexchange.com/questions/465054/tukey-depth-intuition)"
   ]
  }
 ],
 "metadata": {
  "kernelspec": {
   "display_name": "Python 3",
   "language": "python",
   "name": "python3"
  },
  "language_info": {
   "codemirror_mode": {
    "name": "ipython",
    "version": 3
   },
   "file_extension": ".py",
   "mimetype": "text/x-python",
   "name": "python",
   "nbconvert_exporter": "python",
   "pygments_lexer": "ipython3",
   "version": "3.7.7"
  }
 },
 "nbformat": 4,
 "nbformat_minor": 4
}
