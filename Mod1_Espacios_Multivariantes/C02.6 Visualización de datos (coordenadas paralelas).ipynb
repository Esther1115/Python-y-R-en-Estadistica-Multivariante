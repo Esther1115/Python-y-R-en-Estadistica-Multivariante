{
 "cells": [
  {
   "cell_type": "markdown",
   "metadata": {},
   "source": [
    "<img src=\"logo.png\">"
   ]
  },
  {
   "cell_type": "markdown",
   "metadata": {},
   "source": [
    "# Coordenadas paralelas\n",
    "\n",
    "<img src=\"coordenadas1.png\" width=\"700\">\n",
    "\n",
    "\n",
    "En vez de graficar las observaciones en un sistema de coordenadas ortogonales, podríamos poner cada coordenada en ejes paralelos y conectarlos con líneas:\n",
    "\n",
    "• Las variables estarán en el eje horizontal y las observaciones en el eje\n",
    "vertical.\n",
    "\n",
    "• Esta representación es muy útil en alta dimensión.\n",
    "\n",
    "• Pero tiene la desventaja de que el orden de las variables influye en los posibles patrones que podrían mostrarse.\n",
    "\n",
    "\n",
    "Podemos dibujar todas las observaciones con un mismo color, o diferenciar por subgrupos si se dispone de una variable categórica. En el ejemplo vemos que el comportamiento de las variables depende fuertemente de la especie de flor."
   ]
  },
  {
   "cell_type": "markdown",
   "metadata": {},
   "source": [
    "## Curvas de Andrews\n",
    "\n",
    "Es una versión suavizada de la representación en coordenadas paralelas. Cada observación se representa como una función de $−\\pi$ a $\\pi$. Las funciones se pueden interpretar como proyecciones de los datos en el espacio de las Series de Fourier. Si hay alguna estructura entre los datos, puede ser visible con este gráfico.\n",
    "\n",
    "<img src=\"coordenadas2.png\">"
   ]
  },
  {
   "cell_type": "markdown",
   "metadata": {},
   "source": [
    "## Radares\n",
    "\n",
    "Es un gráfico bidimensional de tres o más variables cuantitativas representadas en ejes que comienzan desde el mismo punto. Es equivalente a una gráfica de coordenadas paralelas, con los ejes dispuestos radialmente.\n",
    "\n",
    "También se conoce como gráfico web, gráfico de araña, gráfico de estrellas, o gráfico polar.\n",
    "\n",
    "Se pueden observar las formas de las diferentes observaciones y las diferencias entre las magnitudes para cada variable.\n",
    "\n",
    "<img src=\"coordenadas3.png\" width=\"600\">"
   ]
  }
 ],
 "metadata": {
  "kernelspec": {
   "display_name": "Python 3",
   "language": "python",
   "name": "python3"
  },
  "language_info": {
   "codemirror_mode": {
    "name": "ipython",
    "version": 3
   },
   "file_extension": ".py",
   "mimetype": "text/x-python",
   "name": "python",
   "nbconvert_exporter": "python",
   "pygments_lexer": "ipython3",
   "version": "3.7.7"
  }
 },
 "nbformat": 4,
 "nbformat_minor": 4
}
