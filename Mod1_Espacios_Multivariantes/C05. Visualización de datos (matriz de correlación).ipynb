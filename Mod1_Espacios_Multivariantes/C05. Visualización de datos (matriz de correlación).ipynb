{
 "cells": [
  {
   "cell_type": "markdown",
   "metadata": {},
   "source": [
    "<img src=\"logo.png\">"
   ]
  },
  {
   "cell_type": "markdown",
   "metadata": {},
   "source": [
    "# Matriz de correlación\n",
    "\n",
    "La correlación es una medida numérica estadística que permite medir el grado de relación lineal entre un par de variables aleatorias. Cumple las siguientes propiedades:\n",
    "\n",
    "• Toma valores en el rango de -1 a 1.\n",
    "\n",
    "• Si vale -1 significa que la relación lineal es fuerte y negativa o\n",
    "inversa.\n",
    "\n",
    "• Si vale 1 significa que la relación lineal es fuerte y positiva o directa.\n",
    "\n",
    "• Si vale 0 significa que no hay relación lineal entre las dos variables."
   ]
  },
  {
   "cell_type": "markdown",
   "metadata": {},
   "source": [
    "Supongamos que tenemos la matriz de $p$ variables $\\boldsymbol{X=[x_1,x_2,...,x_p]}$, donde $\\boldsymbol{x_i}\\in\\mathbb{R}^n$.\n",
    "\n",
    "% La correlación de las variables $\\boldsymbol{x_i}$ y $\\boldsymbol{x_j}$ se define como $$corr(\\boldsymbol{x_i},\\boldsymbol{x_j})=\\frac{cov(\\boldsymbol{x_i},\\boldsymbol{x_j})}{sd_{\\boldsymbol{x_i}}sd_{\\boldsymbol{x_j}}}$$"
   ]
  },
  {
   "cell_type": "markdown",
   "metadata": {},
   "source": [
    "La matriz de correlaciones se define con cada elemento igual a la correlación entre las variables $\\boldsymbol{x_i}$ y $\\boldsymbol{x_j}$. En la diagonal vale 1 porque es la correlación entre cada variable consigo misma, y es simétrica.\n",
    "\n",
    "\n",
    "Convirtiendo cada valor de correlación en un color dentro de una escala de colores en el rango de -1 a 1, la matriz de correlaciones se puede representar gráficamente:\n",
    "\n",
    "<img src=\"correlacion1.png\">"
   ]
  }
 ],
 "metadata": {
  "kernelspec": {
   "display_name": "Python 3",
   "language": "python",
   "name": "python3"
  },
  "language_info": {
   "codemirror_mode": {
    "name": "ipython",
    "version": 3
   },
   "file_extension": ".py",
   "mimetype": "text/x-python",
   "name": "python",
   "nbconvert_exporter": "python",
   "pygments_lexer": "ipython3",
   "version": "3.7.7"
  }
 },
 "nbformat": 4,
 "nbformat_minor": 4
}
