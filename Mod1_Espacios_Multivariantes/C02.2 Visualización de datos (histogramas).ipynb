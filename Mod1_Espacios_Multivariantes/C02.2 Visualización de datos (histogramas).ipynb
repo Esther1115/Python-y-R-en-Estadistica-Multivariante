{
 "cells": [
  {
   "cell_type": "markdown",
   "metadata": {},
   "source": [
    "<img src=\"logo.png\">"
   ]
  },
  {
   "cell_type": "markdown",
   "metadata": {},
   "source": [
    "# Histogramas\n",
    "\n",
    "Es un gráfico que nos da información sobre la distribución de una variable aleatoria, posible multimodalidad, asimetría, dispersión y atípicos.\n",
    "\n",
    "El histograma es una representación gráfica de frecuencias. \n",
    "<img src=\"hist1.png\">"
   ]
  },
  {
   "cell_type": "markdown",
   "metadata": {},
   "source": [
    "## Caso multivariante\n",
    "\n",
    "En el caso multivariante tenemos dos alternativas"
   ]
  },
  {
   "cell_type": "markdown",
   "metadata": {},
   "source": [
    "**Alternativa 1**\n",
    "\n",
    "Podemos comparar los histogramas de todas las variables que tenemos\n",
    "\n",
    "<img src=\"hist2.png\">   "
   ]
  },
  {
   "cell_type": "markdown",
   "metadata": {},
   "source": [
    "**Alternativa 2**\n",
    "\n",
    "Podemos comparar los histogramas de una variable dividida en los subgrupos que tenemos\n",
    "<img src=\"hist3.png\">    "
   ]
  }
 ],
 "metadata": {
  "kernelspec": {
   "display_name": "Python 3",
   "language": "python",
   "name": "python3"
  },
  "language_info": {
   "codemirror_mode": {
    "name": "ipython",
    "version": 3
   },
   "file_extension": ".py",
   "mimetype": "text/x-python",
   "name": "python",
   "nbconvert_exporter": "python",
   "pygments_lexer": "ipython3",
   "version": "3.7.7"
  }
 },
 "nbformat": 4,
 "nbformat_minor": 4
}
