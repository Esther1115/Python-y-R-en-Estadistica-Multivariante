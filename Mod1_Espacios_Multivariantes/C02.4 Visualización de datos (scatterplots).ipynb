{
 "cells": [
  {
   "cell_type": "markdown",
   "metadata": {},
   "source": [
    "<img src=\"logo.png\">"
   ]
  },
  {
   "cell_type": "markdown",
   "metadata": {},
   "source": [
    "# Scatterplot\n",
    "\n",
    "Es un gráfico que aporta:\n",
    "\n",
    "• Visualizar la distribución bivariada (entre dos variables aleatorias)\n",
    "\n",
    "• También se conoce como Diagrama de Dispersión.\n",
    "\n",
    "• Nos ayuda a entender las relaciones entre pares de variables.\n",
    "\n",
    "• Si se añade una 3ra variable puede hacerse un scatterplot 3-\n",
    "dimensional.\n",
    "\n",
    "• El “scatterplot matrix” es un gráfico con múltiples 2D-scatterplots\n",
    "\n",
    "<img src=\"scatter1.png\">\n",
    "\n",
    "<img src=\"scatter2.png\" width=\"700\">"
   ]
  },
  {
   "cell_type": "markdown",
   "metadata": {},
   "source": [
    "<img src=\"scatter3.png\">"
   ]
  },
  {
   "cell_type": "markdown",
   "metadata": {},
   "source": [
    "Podemos diferenciar por grupos, y en vez de poner histogramas poner estimaciones de kernel densities.\n",
    "\n",
    "<img src=\"scatter4.png\">"
   ]
  },
  {
   "cell_type": "markdown",
   "metadata": {},
   "source": [
    "Si ponemos en los tres ejes de coordenadas tres variables aleatorias de las que tengamos, podemos obtener un scatterplot 3-dimensional, incluso con movimiento.\n",
    "\n",
    "<img src=\"scatter5.png\">"
   ]
  }
 ],
 "metadata": {
  "kernelspec": {
   "display_name": "Python 3",
   "language": "python",
   "name": "python3"
  },
  "language_info": {
   "codemirror_mode": {
    "name": "ipython",
    "version": 3
   },
   "file_extension": ".py",
   "mimetype": "text/x-python",
   "name": "python",
   "nbconvert_exporter": "python",
   "pygments_lexer": "ipython3",
   "version": "3.7.7"
  }
 },
 "nbformat": 4,
 "nbformat_minor": 4
}
