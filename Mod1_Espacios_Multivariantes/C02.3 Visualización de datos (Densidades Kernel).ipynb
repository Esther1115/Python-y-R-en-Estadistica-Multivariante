{
 "cells": [
  {
   "cell_type": "markdown",
   "metadata": {},
   "source": [
    "<img src=\"logo.png\">"
   ]
  },
  {
   "cell_type": "markdown",
   "metadata": {},
   "source": [
    "# Densidades kernel\n",
    "\n",
    "Es un gráfico que aporta la misma información que un histograma. Además de estimar la función de densidad de la variable aleatoria y dibujarla sobre el histograma.\n",
    "\n",
    "La densidad kernel está basada en una función que se llama kernel. Por ejemplo: Kernel Gaussiano, Uniforme, Triangular, Epanechnikov, etc\n",
    "\n",
    "<img src=\"kernel1.png\">"
   ]
  },
  {
   "cell_type": "markdown",
   "metadata": {},
   "source": [
    "La forma general en que se calcula la función de densidad $f_n$ a través de un kernel dado $K$ si tenemos las $n$ observaciones $x_1,x_2,...,x_n$ es $$f_h(x)=\\frac{1}{nh}\\sum_{i=1}^nK\\left(\\frac{x-x_i}{h}\\right),$$ donde $h$ es el ancho de banda.\n",
    "\n",
    "Los kernel mas usados son:\n",
    "\n",
    "* Uniforme: $K(t)=\\frac{1}{2}I_{[-1,1)}(t)$\n",
    "\n",
    "* Guassiano $K(t)=\\frac{1}{\\sqrt{2\\pi}}\\exp\\left(-\\frac{t^2}{2}\\right)$\n",
    "\n",
    "**Ejemplo**\n",
    "\n",
    "Aquí usamos un kernel uniforme con diferentes anchos de banda\n",
    "\n",
    "<img src=\"kernel2.png\">"
   ]
  },
  {
   "cell_type": "markdown",
   "metadata": {},
   "source": [
    "En general, $h$ se elige de tal manera que el error cuadrático medio integral se minimice: $$MISE(h)=E\\left[\\int|f_h(x)-f(x)|^2\\,\\mathrm{d}x\\right],$$ donde $f$ es la función de densidad real de las observaciones."
   ]
  },
  {
   "cell_type": "markdown",
   "metadata": {},
   "source": [
    "## Caso bidimensional\n",
    "\n",
    "También podemos estimar la densidad kernel bivariada entre dos variables aleatorias y verlo en un gráfico bidimensional.\n",
    "\n",
    "<img src=\"kernel3.png\">"
   ]
  }
 ],
 "metadata": {
  "kernelspec": {
   "display_name": "Python 3",
   "language": "python",
   "name": "python3"
  },
  "language_info": {
   "codemirror_mode": {
    "name": "ipython",
    "version": 3
   },
   "file_extension": ".py",
   "mimetype": "text/x-python",
   "name": "python",
   "nbconvert_exporter": "python",
   "pygments_lexer": "ipython3",
   "version": "3.7.7"
  }
 },
 "nbformat": 4,
 "nbformat_minor": 4
}
