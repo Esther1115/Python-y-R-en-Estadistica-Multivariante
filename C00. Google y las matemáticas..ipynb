{
 "cells": [
  {
   "cell_type": "markdown",
   "metadata": {},
   "source": [
    "<img src=\"logo.png\">"
   ]
  },
  {
   "cell_type": "markdown",
   "metadata": {},
   "source": [
    "# El origen del buscador de Google\n",
    "\n",
    "<img src=\"google.png\">\n",
    "\n",
    "\n",
    "Fue diseñado en 1998 por Sergei Brin y Lawrence Page, graduados de los doctorados en Matemáticas e Informática de Standord respectivamente.\n",
    "\n",
    "En 1997, cuando Brin y Page comenzaban a diseñarlo, existían al rededor de 100 millones de páginas web. Altavista, el buscador mas popular de ese momento, atendía cerca de 20 millones de consultas diarias. \n",
    "\n",
    "Así que el diseño de un buscador ha de resolver con eficacia ciertas cuestiones computacionales, como la manera en que se almacena toda esa información, cómo se actualiza, cómo se pueden gestionar las peticiones, cómo buscar en las gigantescas bases de datos, etc.\n",
    "\n",
    "Supongamos que, a resultas de una consulta, tras el proceso de búsqueda en las bases de datos, hemos determinado que, digamos, unas cien páginas contienen información que, de una manera u otra, puede resultar relevante para el usuario. Ahora, *¿en qué orden mostramos esos resultados?*\n",
    "\n",
    "Para la tarea que queremos abordar, necesitamos un criterio de ordenación. Si etiquetamos con los símbolos $P_1,P_2,\\cdots,P_n$ \n",
    "cada una de las páginas de la red, todo lo que nos hace falta es asignar a cada $P_j$ un número $x_j$ , que llamaremos su **importancia**. Estos números podrían ser números entre 0 y 1.\n",
    "\n",
    "Supongamos entonces que, tras un censo de los sitios de la red, hemos conseguido construir la lista de páginas web, y que le hemos asignado a cada una de ellas, de la manera que sea, una importancia. Esta ordenación queda a nuestra disposición para ser utilizada cada vez que contestemos a una determinada consulta: las páginas seleccionadas se mostrarán en el orden que indique dicha lista.\n",
    "\n"
   ]
  },
  {
   "cell_type": "markdown",
   "metadata": {},
   "source": [
    "## El modelo\n",
    "\n",
    "Digamos que hemos recogido toda la información sobre la red (sitios, contenidos, enlaces de unas páginas a otras, etc.). De toda esta información, y en este primer paso de la modelización, vamos a rescatar únicamente la referida a cada una de las páginas, a la que asignamos etiquetas $P_1,P_2,\\cdots,P_n$, y los enlaces entre ellas.\n",
    "\n",
    "En estos términos, la red puede ser descrita mediante un grafo (dirigido) $G$:Cada página $P_j$ de la red es un vértice del grafo, y hay una arista (dirigida) entre los vértices $P_i$ y $P_j$ si desde la página $P_i$ hay un enlace a la página $P_j$. Es un grafo gigantesco.\n",
    "\n",
    "Consideremos su matriz adyacente $M$:\n",
    "\n",
    "<img src=\"matriz_ady.png\">\n",
    "\n",
    "Nótese que no tiene por qué ser simétrica, pues nuestro grafo es dirigido. Obsérvese también que, tal como se señala en el dibujo, la suma de las entradas correspondientes a la columna de $P_j$ es el número de enlaces que salen de la página $P_j$,\n",
    "mientras que la suma de los registros de una fila coincide con el número de enlaces entrantes.\n",
    "\n",
    "La importancia de una cierta página de la red $P_j$ «tiene que ver» con las páginas desde las que hay enlaces a ella. Esto es muy razonable: si muchas páginas enlazan con $P_j$, será porque la información que ésta contiene ha sido considerada por muchos participantes de la red como «recomendable».\n",
    "\n",
    "Necesitamos que nuestro modelo considere alguna manera en la que asignemos alta importancia:\n",
    "* Tanto a páginas muy citadas,\n",
    "* A páginas poco citadas, pero desde sitios «importantes».\n",
    "\n",
    "En este intento decidimos que la importancia $x_j$ de cada página $P_j$ es proporcional a la suma de las importancias de las páginas que enlazan con $P_j$.\n",
    "\n",
    "**Ejemplo**\n",
    "\n",
    "Supongamos que la página $P_1$ es citada desde las páginas $P_2$ , $P_{25}$ y $P_{256}$, que $P_2$  sólo se cita desde $P_1$   y $P_{256}$, mientras que, digamos, hay enlaces a la última página, $P_n$, desde $P_1,P_2,P_3,P_{25}$ y $P_{n-1}$. En nuestra asignación anterior, $x_1$ debería ser proporcional a 3, $x_2$ lo sería a 2, etc., mientras que $x_n$ habría de ser proporcional a 5.\n",
    "\n",
    "Pero ahora nuestra asignación $x_1,...,x_n$ debe cumplir que\n",
    "\n",
    "$$\\left\\{\\begin{array}{ccc}x_1&=&K(x_2+x_{25}+x_{256})\\\\x_2&=&K(x_1+x_{256})\\\\\\vdots&\\vdots&\\vdots\\\\x_n&=&K(x_1+x_2+x_3+x_{25}+x_{n-1} )\\end{array}\\right.$$\n",
    " \n",
    "donde $K$ es una cierta constante de proporcionalidad. Nos encontramos así con  un enorme sistema de ecuaciones GIGANTE.\n",
    "\n"
   ]
  },
  {
   "cell_type": "markdown",
   "metadata": {},
   "source": [
    "Si llamamos $\\vec{x}$ al vector $(x_1,x_2,\\cdots,x_n)$, entonces buscamos resolver el sistema $M\\vec{x}=\\lambda\\vec{x}$ para alguna $\\lambda$. \n",
    "\n",
    "Sí, de acuerdo, un autovector, ¿pero cuál? Hay tantos…Y además, ¿cómo podemos calcularlo?, la matriz es inimaginablemente grande: recordemos, varios miles de millones de filas (o columnas). "
   ]
  },
  {
   "cell_type": "markdown",
   "metadata": {},
   "source": [
    "Por ahora, parece razonable exigir que las entradas del vector (las importancias de las páginas de la red) sean todas no negativas (o, al menos, del mismo signo). Esto lo escribiremos como $\\vec{x}\\ge0$.\n",
    "\n",
    "Pero además, si pretendemos que el método sea útil, necesitaríamos que ese hipotético autovector de entradas no negativas fuera único (si hubiera más de uno, ¿con cuál nos quedaríamos?)."
   ]
  },
  {
   "cell_type": "markdown",
   "metadata": {},
   "source": [
    "## El sorfista aleatorio\n",
    "\n",
    "Vamos a enfocar el problema desde un nuevo punto de vista. Imaginemos que un surfista se dedica a navegar por la red. En un cierto instante de tiempo está en una página, por ejemplo en $P_1$. En el instante siguiente, algo aburrido de los contenidos de $P_1$, va a saltar a una de las páginas a las que enlaza $P_1$ (hay $N_1$ de ellas). Pero, ¿exactamente a cuál?\n",
    "\n",
    "Para decidir a cuál de ellas va, efectúa un sorteo. Y lo hace de la manera más simple posible: utilizando un dado regular (y virtual, suponemos), que tenga tantas caras como enlaces salgan de la página $P_1$.\n",
    "\n",
    "No sabemos dónde estará un instante de tiempo después, pero sí con qué probabilidad estará en cada uno de los posibles destinos. Y además es un modelo dinámico, porque el mismo argumento se podría aplicar al segundo movimiento, y al tercero, etc. Nuestro surfista sigue lo que se denomina un paseo aleatorio por el grafo.\n",
    "\n",
    "La formulación es muy sugerente, pero no está nada claro cómo podemos formalizarla: cómo podemos calcular, por ejemplo, la probabilidad de que, partiendo de la página $P_1$, el navegante esté en la página $P_{17}$ tras cinco instantes de tiempo. \n",
    "\n",
    "Recordemos que $M$ es la matriz del grafo de la red, y que sus entradas son ceros o unos. Llamemos $N_j$ al número de enlaces desde la página $P_j$. Vamos ahora a construir una nueva matriz $M^\\prime$ a partir de la $M$ original sustituyendo cada entrada $m_{ij}$ por $$m^\\prime_{ij}=\\frac{m_{ij}}{N_j}$$\n",
    "\n",
    "Los registros de la nueva matriz $M^\\prime$ son números no negativos (entre 0 y 1) tales que la suma de los registros de cada columna vale 1. La matriz $M^\\prime$ así construida es lo que se llama una matriz estocástica.\n",
    "\n",
    "La matriz $M^\\prime$ recibe el nombre de **matriz de transición del sistema**: cada entrada $m^\\prime_{ij}$ es la probabilidad de pasar del estado (vértice) $P_j$ al estado (vértice) $P_i$ . Y los registros de las sucesivas potencias de la matriz, las probabilidades de pasar de cada $P_i$ a cada $P_j$ tras varios instantes de tiempo.\n",
    "\n",
    "*Observación.* Podría ocurrir que alguna página no tuviera enlaces salientes (su columna tuviera sólo ceros). No sería una matriz estocástica. La solución de Google: la sustituimos por una columna con valores $1/n$. Así que si el surfista llega a una página de la que (antes) «no podía salir», ahora sortea (uniformemente) entre todas las de la red. \n",
    "\n",
    "\n",
    "\n",
    "\n",
    "\n",
    "\n"
   ]
  },
  {
   "cell_type": "markdown",
   "metadata": {},
   "source": [
    "## LA CLASIFICACIÓN PARA LAS ELIMINATORIAS POR EL TÍTULO\n",
    "\n",
    "Nos estamos olvidando de la cuestión que nos interesa: el sistema de ordenación de Google. Disciplinémonos y volvamos a ella. Empecemos precisando que las ideas que utiliza Google para ordenar los resultados provienen de unos algoritmos desarrollados por Kendall y Wei en los años 50.\n",
    "\n",
    "Vamos a plantear una cuestión muy similar a la que nos ha ocupado hasta ahora, en un contexto algo más lúdico, que ilustraremos con un ejemplo sencillo que podremos resolver sin ayuda de grandes herramientas computacionales\n",
    "\n",
    "La estructura de los campeonatos deportivos, por ejemplo de baloncesto, en Estados Unidos es algo diferente a la que suele seguirse en los europeos. En las ligas europeas cada equipo juega un cierto número de partidos (dos, generalmente) contra cada uno de los demás equipos de la competición. Al final de lo que se conoce con el (curioso) nombre de temporada regular, se disputan unas eliminatorias por el título, en las que se intervienen los que han conseguido mejores clasificaciones (por ejemplo, los ocho primeros).\n",
    "\n",
    "Pero en Estados Unidos, debido a las grandes distancias que separan las distintas ciudades, y para evitar un número excesivo de viajes, la estructura no es tan homogénea.\n",
    "\n",
    "\n",
    "Lo vamos a ilustrar con la liga profesional de baloncesto, aunque la cuestión que vamos a explicar podría aplicarse también a la liga universitaria. En la NBA, los 30 equipos están divididos en dos conferencias, cada una de las cuales está a su vez formada por tres divisiones, siguiendo (más o menos) criterios geográficos:\n",
    "\n",
    "* Conferencia Este: División Atlántico, División Central y División Sudeste.\n",
    "* Conferencia Oeste: División Suroeste, División Noroeste, División Pacífico.\n",
    "\n",
    "Todos los equipos juegan el mismo número de partidos, 82, pero no disputan el mismo número contra cada equipo; lo habitual es que se jueguen más partidos contra los de la propia conferencia.\n",
    "Se plantea así la siguiente cuestión: acabada la temporada regular, ¿qué 16 equipos han de clasificarse para las eliminatorias? El sistema actual computa el número de victorias obtenidas por cada equipo, que determinan las posiciones finales. Pero cabría preguntarse si éste es un sistema «justo». Al fin y al cabo, podría ocurrir que un equipo hubiera acumulado muchas victorias precisamente por estar encuadrado en una conferencia muy «débil». ¿Qué debe valer más, el número de victorias, o la «calidad» de las victorias obtenidas? De nuevo, la dicotomía ante la que nos encontrábamos en el diseño de Google.\n"
   ]
  },
  {
   "cell_type": "markdown",
   "metadata": {},
   "source": [
    "**Ejemplo**\n",
    "Digamos que en la competición hay $n$ equipos $E_1,...,E_n$. Registramos los resultados de la temporada regular en una matriz $A$ cuyas entradas $a_{ij}$ obtenidas por cada equipo son es la proporción de victorias:\n",
    " \n",
    "$$a_{ij}=\\frac{\\#\\mbox{victorias de }E_i\\mbox{ sobre }E_j}{\\#\\mbox{partidos de }E_i}$$\n",
    "\n",
    "Nuestro objetivo es asignar a cada equipo $E_j$ un número $x_j$, que por analogía, denominaremos importancia, de manera que la lista $x_1,...,x_n$ determine la clasificación final.\n",
    " \n",
    "Como antes, decidimos que la importancia $x_j$ sea proporcional al número de victorias obtenidas, pero ponderadas con la importancia que asignemos a los demás equipos:\n",
    "\n",
    "$$x_j=K\\sum_{k=1}^na_{jk}x_k,$$\n",
    "\n",
    "Lo que nos conduce, otra vez, a $A\\vec{x}=\\lambda\\vec{x}$\n",
    " \n",
    "El interés, de nuevo, radica en encontrar un autovector de A con entradas no negativas (y único, a poder ser).\n"
   ]
  },
  {
   "cell_type": "markdown",
   "metadata": {},
   "source": [
    "## Los cálculos y la computadora\n",
    "\n",
    "Tenemos seis equipos $E_1,...,E_6$. Los tres primeros forman una conferencia; los siguientes la otra. Cada equipo juega 21 partidos en total: 6 contra los de su propia conferencia, 3 contra cada uno de los de la otra. La información sobre las victorias conseguidas está contenida en la siguiente tabla:\n",
    "\n",
    "<img src=\"tabla1.png\">\n",
    "\n",
    "A la derecha de la tabla hemos sumado el número de victorias que ha conseguido cada escuadra. Ese balance de victorias y derrotas sugiere que la ordenación adecuada es $$E_3\\rightarrow E_6 \\rightarrow E_5 \\rightarrow E_2 \\rightarrow E_4 \\rightarrow E_1$$\n",
    "\n",
    "Pero observemos que, por ejemplo, el líder de la competición, $E_3$ , ha acumulado muchas victorias contra $E_1$, que es el peor equipo. \n",
    "\n",
    "¿Qué ocurre con el segundo enfoque? Tenemos que calcular, y en serio. Incluso en\n",
    "un ejemplo tan sencillo como este, necesitamos la ayuda del ordenador. \n",
    "\n",
    "Buscamos los eigenvalores de la matriz $A$ dada por \n",
    "\n",
    "<img src=\"matriz1.png\">\n",
    "\n",
    "Cualquier programa de computador (como RStudio o Spyder) nos indicará que esta matriz tiene seis autovalores distintos, dos complejos (conjugados) y cuatro reales. Si calculamos sus módulos, obtendremos que los módulos son $0.012,0.475,0.161,0.126,0.139,0.161$\n",
    "\n",
    "Observamos que el mayor autovalor (en módulo) es $0.475$, cuyo autovector asociado, es $$\\vec{x}=(0.509,0.746,0.928,0.690, 0.840,1)$$ y este es el único cuyas entradas son todas números reales y no negativos.\n",
    "\n",
    "Ya tenemos la respuesta que buscábamos: el orden que sugiere este cálculo (véanse las entradas del autovector v ) es\n",
    "$$E_6 \\rightarrow E_3 \\rightarrow E_5 \\rightarrow E_2 \\rightarrow E_4 \\rightarrow E_1$$\n"
   ]
  },
  {
   "cell_type": "markdown",
   "metadata": {},
   "source": [
    "En esta matriz particular (que bien pudiera servir de versión a pequeña escala de la de Internet), cuyas entradas son todas no negativas, se ha dado la mejor de las situaciones posibles: hay un único autovector cuyas entradas son todas no negativas. Este autovector, que además está asociado al autovalor de módulo máximo, nos sirve como solución al problema de ordenación que nos habíamos planteado.\n",
    "\n",
    "¿Ha sido casualidad?"
   ]
  },
  {
   "cell_type": "markdown",
   "metadata": {},
   "source": [
    "## LAS MATEMÁTICAS ENTRAN EN ESCENA\n",
    "\n",
    "Descubriremos que la única propiedad que comparten todas las matrices que nos conciernen (sean estocásticas o no) es que sus entradas son no  negativas. No parece mucha información. Las matrices no tienen por qué ser simétricas, ni definidas positivas.\n",
    "\n",
    "Sin embargo, como mostraría Perron a principios del siglo XX, es suficiente para empezar a extraer buenos réditos:\n",
    "\n",
    "**Teorema 1 (Perron, 1907).** Sea $A$ una matriz (cuadrada) con entradas positivas. Entonces,\n",
    "\n",
    "a)\texiste un autovalor (simple) $\\lambda>0$ tal que $Av=\\lambda v$, donde el autovector correspondiente es $v>0$;\n",
    " \n",
    "b)\teste autovalor es mayor, en módulo, que todos los demás autovalores;\n",
    "\n",
    "c)\tcualquier otro autovector positivo de $A$ es un múltiplo de $v$.\n",
    "\n",
    "Apunta en la dirección que buscamos, pero no es suficiente, porque las matrices que manejamos pueden tener ceros en ciertas posiciones. Así que necesitamos algo más.\n",
    "\n",
    "Frobenius, unos años después, cuando se ocupa del caso más general de las matrices no negativas\n",
    "\n",
    "**Teorema  2 (Frobenius, 1908-1912).**\tSea $A$ una matriz (cuadrada) con entradas no negativas. Si A es irreducible, entonces:\n",
    "\n",
    "a)\tExiste un autovalor (simple) $\\lambda$ tal que $Av=\\lambda v$, donde el autovector $v$ es $v>0$. Además, $\\lambda\\ge|\\mu|$  para cualquier otro autovalor $\\mu$ de $A$.\n",
    "\n",
    "b)\tCualquier autovector $\\ge0$ es un múltiplo de $v$.\n",
    "\n",
    "c)\tSi hay $k$ autovalores de módulo máximo, entonces son las soluciones de la ecuación $x^k-\\lambda^k=0$.\n",
    "\n",
    "Si la matriz $A$ es irreducible (y sobre si éste es el caso o no de la matriz de la red reflexionaremos más adelante), entonces la cuestión queda completamente resuelta: existe un único autovector con entradas no negativas, que además está asociado al autovalor positivo de módulo máximo (en un momento entenderemos las ventajas que supone esto último)."
   ]
  },
  {
   "cell_type": "markdown",
   "metadata": {},
   "source": [
    "## ¿Y LA CUESTIÓN COMPUTACIONAL?\n",
    "\n",
    "El Teorema de Perron- Frobenius garantiza la existencia del autovector que es la respuesta a nuestro problema de ordenación, pero nada nos dice sobre cómo calcularlo.\n",
    "\n",
    "De nuevo la propia estructura del problema sale en nuestra ayuda para facilitarnos el cálculo. Una feliz coincidencia. Todo arranca de la observación, hasta ahora inocente, de que el autovector que buscamos está asociado al autovalor de módulo máximo.\n",
    "\n"
   ]
  },
  {
   "cell_type": "markdown",
   "metadata": {},
   "source": [
    "## ¿ESTAMOS REALMENTE EN UNA SITUACIÓN IDEAL?\n",
    "\n",
    "Para que todo funcione, necesitamos que la matriz $M$ asociada al grafo $G$ de la red sea irreducible.\n",
    "\n",
    "¿Qué podemos hacer (o más bien, ¿qué hace Google?) ante esto? Un truco muy habitual: se trata de conseguir (de una manera razonable) estar en la mejor situación posible. Por ejemplo, añadiendo toda una serie de probabilidades de transición (de salida) a todos los vértices. Esto es, considerando la matriz\n",
    "\n",
    "$$M^{\\prime\\prime}=cM^\\prime+(1-c)\\langle(p_1,p_2,...,p_n),(1,1,...,1)\\rangle,$$ \n",
    "\n",
    "donde $p_1,...,p_n$ es una distribución de probabilidad ( $p_j\\ge0$ y $\\sum_{j=1}^np_j=1$), y $c$ es un cierto parámetro entre 0 y 1.\n",
    "\n",
    "Por ejemplo, podríamos tomar una distribución uniforme, $p_j=\\frac{1}{n}$ para cada $j$ (con lo que la matriz ya tendría todas sus entradas positivas). Pero podríamos elegir otras, y este nuevo grado de libertad permitiría hacer búsquedas «personalizadas».\n",
    " \n",
    "En términos del surfista aleatorio, estamos añadiendo la posibilidad de que (con probabilidad $1-c$) se «aburra» de seguir los enlaces y opte por saltar a otras páginas (con arreglo a cierta distribución de probabilidad)."
   ]
  },
  {
   "cell_type": "markdown",
   "metadata": {},
   "source": [
    "## Bibliografía\n",
    "\n",
    "1) [El secreto de Google y el Álgebra lineal](https://sctmates.webs.ull.es/modulo1lp/8/pfernandez.pdf)"
   ]
  }
 ],
 "metadata": {
  "kernelspec": {
   "display_name": "Python 3",
   "language": "python",
   "name": "python3"
  },
  "language_info": {
   "codemirror_mode": {
    "name": "ipython",
    "version": 3
   },
   "file_extension": ".py",
   "mimetype": "text/x-python",
   "name": "python",
   "nbconvert_exporter": "python",
   "pygments_lexer": "ipython3",
   "version": "3.7.7"
  }
 },
 "nbformat": 4,
 "nbformat_minor": 4
}
