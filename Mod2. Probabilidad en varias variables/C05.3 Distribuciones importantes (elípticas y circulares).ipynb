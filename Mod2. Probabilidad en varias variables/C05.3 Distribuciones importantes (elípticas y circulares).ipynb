{
 "cells": [
  {
   "cell_type": "markdown",
   "metadata": {},
   "source": [
    "<img src=\"logo.png\">"
   ]
  },
  {
   "cell_type": "markdown",
   "metadata": {},
   "source": [
    "# Distribución t de Student\n",
    "\n",
    "La **t de Student** es un tipo de variable aleatoria cuyo objetivo es brindarnos un mejor entendimiento de las normales. Depende de un parámetro $n$ llamado *grados de libertad*. Su gráfico es simétrico y en forma de campana, parecido al de la Normal. Pero tiene mayor dispersión que la Normal. Su varianza tiende a 1 a medida que $n$ aumenta. Se acerca a la Normal, a medida que $n$ aumenta. Si $X$ es una variable aleatoria con distribución t de Student con $n$ grados de libertad, lo denotaremos por $X\\sim t_{n}$\n",
    "\n",
    "Su valor esperado es siempre 0, y su varianza es $\\frac{n}{n-2}$.\n",
    "\n",
    "<img src=\"student1.png\">\n",
    "\n",
    "La t-student multivariante pertenece a la familia de distribuciones elípticas. El valor de $n$ también significa los \"grados de libertad\". La distribución t-student es de la familia de distribuciones de cola pesada, o heavy-tailed, porque tiene mayor densidad de probabilidad en la cola comparada con una Normal con igual vector de medias y matriz de covarianza. Hay más distribuciones de cola pesada, por ejemplo: mixturas de distribuciones.\n",
    "\n"
   ]
  },
  {
   "cell_type": "markdown",
   "metadata": {},
   "source": [
    "# Distribuciones elípticas y esféricas\n",
    "\n",
    "Una variable aleatoria multivariante $X=(X_1,X_2,...,X_p)$ sigue una distribución elíptica si su función de densidad solo depende de la variable $\\vec{u}=(u_1,u_2,...,u_p)$, la variable en que se evalúa la densidad, a través de $$(\\vec{u}-\\vec{m})V^{-1}(\\vec{u}-\\vec{m}),$$ donde $\\vec{m}$ es un vector, de números, de dimensión $p$ y $V$ es una matriz invertible (no necesariamente son la media y la covarianza). \n",
    "\n",
    "Las curvas de nivel de las distribuciones elípticas son elipsoides centrados en $m$. En el caso bidimensional, serían elipses centradas en $m$. La distribución Gaussiana o Normal multivariante es un caso de distribución elíptica: $N_p(\\vec{\\mu},\\Sigma)$.\n",
    "\n",
    "Por otra parte, una variable aleatoria multivariante $X=(X_1,X_2,...,X_p)$ sigue una distribución esférica si su función de densidad solo depende de la variable a través de $u_1^2+u_2^2+...+u_p^2$.\n",
    "\n",
    "Las curvas de nivel de las distribuciones esféricas son esferas centrados en el origen. La distribución es invariante por rotaciones. En el caso bidimensional, las curvas de nivel serían circunferencias centradas en $(0,0)$. La distribución Normal estándar multivariante es un caso de distribución esférica: $N_p(\\boldsymbol{0}_p,I_p)$.\n",
    "\n",
    "Algunas de las propiedades de las distribuciones elípticas y esféricas son las siguientes:\n",
    "\n",
    "* Las marginales y las condicionales son también elípticas.\n",
    "\n",
    "* Las medias condicionales son una función lineal de las variables que la determinan.\n",
    "\n",
    "* Sin embargo, la Normal es la única distribución en la familia que tiene la propiedad de que si la matriz de covarianza es diagonal (covarianzas cero) todas las variables que componen al vector aleatorio son independientes.\n",
    "\n",
    "\n"
   ]
  }
 ],
 "metadata": {
  "kernelspec": {
   "display_name": "Python 3",
   "language": "python",
   "name": "python3"
  },
  "language_info": {
   "codemirror_mode": {
    "name": "ipython",
    "version": 3
   },
   "file_extension": ".py",
   "mimetype": "text/x-python",
   "name": "python",
   "nbconvert_exporter": "python",
   "pygments_lexer": "ipython3",
   "version": "3.7.7"
  }
 },
 "nbformat": 4,
 "nbformat_minor": 4
}
