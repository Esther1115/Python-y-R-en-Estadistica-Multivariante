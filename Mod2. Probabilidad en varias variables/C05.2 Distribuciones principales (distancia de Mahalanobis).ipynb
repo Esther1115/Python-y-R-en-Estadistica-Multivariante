{
 "cells": [
  {
   "cell_type": "markdown",
   "metadata": {},
   "source": [
    "<img src=\"logo.png\">"
   ]
  },
  {
   "cell_type": "markdown",
   "metadata": {},
   "source": [
    "# Distancia de Mahalanobis\n",
    "\n",
    "Dados dos puntos en un espacio $p$-dimensional, digamos $\\vec{x}=(x_1,x_2,x_3,...,x_p)$ y $\\vec{y}=(y_1,y_2,y_3,...,y_p)$ (recordemos que las $x_i$ y las $y_i$ son números), se define la **distancia euclídea** entre estos como $$d(\\vec{x},\\vec{y})=\\sqrt{(x_1-y_1)^2+(x_2-y_2)^2+...+(x_p-y_p)^2}.$$\n",
    "\n",
    "Aunque útil, esta manera de medir la distancia entre dos puntos presenta dos inconvenientes, muy comunes en Estadística: las unidades y, peor aún, si las características están correlacionadas.\n",
    "\n",
    "Para solventar estos problemas, se utiliza la llamada **distancia de Mahalanobis**. Es decir, siempre que sepamos que hay existencia de características correlacionadas, utilizaremos esta forma de medir distancias.\n",
    "\n",
    "Supongamos que una variable aleatoria $p$-dimensional con vector de medias $\\vec{\\mu}$ y matriz de covarianzas $\\Sigma$. \n",
    "\n",
    "Es decir, $X=(X_1,X_2,...,X_p)$. Si $\\vec{x}=(x_1,x_2,...,x_p)$ es una observación de $X$, se define su distancia de Mahalanobis como \n",
    "\n",
    "$$d_M(\\vec{x})=\\sqrt{(\\vec{x}-\\vec{\\mu})\\Sigma^{-1}(\\vec{x}-\\vec{\\mu})}$$\n",
    "\n",
    "Notemos que si $\\Sigma = I$, entonces Mahalanobis y euclídea son el mismo valor. \n",
    "\n",
    "<img src=\"mahalanobis1.png\">\n",
    "\n",
    "\n",
    "En la práctica no conocemos el centro o la estructura de la distribución poblacional de la que obtuvimos los datos. Por lo tanto se usan los estimadores muestrales para estimar las distancias, la media de la muestra y la matriz de covarianza muestral. Es decir, si $\\boldsymbol{X=[x_1,x_2,...,x_p]}$ son $n$ observaciones de nuestro experimento, entonces la distancia de Mahalanobis de una observación $\\vec{x}=(x_1,...,x_p)$ se calcula como $$d_M(\\vec{x})=\\sqrt{(\\vec{x}-\\boldsymbol{\\overline{x}})\\boldsymbol{S}^{-1}(\\vec{x}-\\boldsymbol{\\overline{x}})}$$\n",
    "\n"
   ]
  },
  {
   "attachments": {},
   "cell_type": "markdown",
   "metadata": {},
   "source": [
    "## ¿Cómo detectar datos atípicos?\n",
    "\n",
    "Si $d_M$ es muy grande, signfica que estamos posiblemente en presencia de datos atípicos. \n",
    "\n",
    "Primero necesitamos saber a partir de qué momento un valor de la distancia Mahalanobis podría ser considerado como un valor muy alto. Se sabe que para datos normalmente distribuidos, la distribución de la distancia Mahalanobis al cuadrado, con los estimadores clásicos media muestral y matriz de covarianza muestral, es aproximadamente una chi-cuadrado con $p$ grados de libertad, donde $p$ es el número de variables que tenemos.\n",
    "\n",
    "Por lo general, el valor de corte es el cuantil 97.5% de la chi cuadarada con $p$ grados de libertad. Este valor de corte (y cualquier otro) se pueden observar en el caso bidimensional como elipses centradas en el vector de medias de nuestros datos (y como elipsoides en el caso $p=3$).\n",
    "\n",
    "Por lo tanto, **en principio**, las observaciones cuya $d_M$ al cuadrado es mas alta que $\\chi^2_{p,9.875}$ se etiquetan como valores atípicos.\n",
    "\n",
    "\n",
    "\n",
    "<img src=\"mahalanobis2.png\">"
   ]
  },
  {
   "cell_type": "markdown",
   "metadata": {},
   "source": [
    "### ¿Que tan confiable es usar la distancia de Mahalanobis para hallar atípicos?\n",
    "\n",
    "Al depender de la media y matriz de covarianzas muestrales, presenta un gran inconveniente. Dado que estos estadísticos se dejan influenciar por la presencia de atípicos, al calcular $d_M$ los valores se calculan incorrectamente porque dependen de los valores afectados por los atípicos, así que no siempre se logran identificar correctamente.\n",
    "\n",
    "<img src=\"mahalanobis3.png\">"
   ]
  }
 ],
 "metadata": {
  "kernelspec": {
   "display_name": "Python 3",
   "language": "python",
   "name": "python3"
  },
  "language_info": {
   "codemirror_mode": {
    "name": "ipython",
    "version": 3
   },
   "file_extension": ".py",
   "mimetype": "text/x-python",
   "name": "python",
   "nbconvert_exporter": "python",
   "pygments_lexer": "ipython3",
   "version": "3.7.7"
  }
 },
 "nbformat": 4,
 "nbformat_minor": 4
}
