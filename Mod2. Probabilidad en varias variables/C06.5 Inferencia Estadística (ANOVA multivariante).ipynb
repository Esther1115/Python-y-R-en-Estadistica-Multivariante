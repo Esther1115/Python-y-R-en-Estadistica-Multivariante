{
 "cells": [
  {
   "cell_type": "markdown",
   "metadata": {},
   "source": [
    "<img src=\"logo.png\">"
   ]
  },
  {
   "cell_type": "markdown",
   "metadata": {},
   "source": [
    "# Contraste de igualdad de varias medias\n",
    "\n",
    "Supongamos que tenemos una muestra de tamaño $n$ de una variable aleatoria $p$-dimensional $\\boldsymbol{X=[x_1,x_2,...,x_n]}$. Digamos que esta muestra se puede clasificar en $G$ grupos de tamaño $n_1,n_2,...,n_G$. Por lo tanto $n_1+n_2+...+n_G=n$.\n",
    "\n",
    "Asumamos que cada grupo sigue una normal, y todos los grupos tienen la misma varianza $\\Sigma$. Nos interesa saber si todos los grupos tienen la misma media poblacional:\n",
    "\n",
    "$$\\left\\{\\begin{array}{c}H_0:\\vec{\\mu_1},\\vec{\\mu_2},...,\\vec{\\mu_G}=\\vec{\\mu_0}\\\\H_1:\\mbox{no todas son iguales}\\end{array}\\right.$$\n",
    "\n",
    "Este problema también se conoce como **análisis de varianza multivariante.** \n",
    "\n",
    "En este caso tenemos $L(H_0)=-\\frac{n}{2}\\log|S|-\\frac{np}{2}$ y, para $H_1$ debemos considerar los grupos en que clasificamos la muestra, de donde se obtiene $L(H_1)=-\\frac{n}{2}\\log|S_W|-\\frac{np}{2}$ donde $$S_W=\\frac{1}{n}\\sum_{g=1}^G\\sum_{h=1}^{n_g}(x_{h,g}-\\overline{x_g})(x_{h,g}-\\overline{x_g})^T$$ \n",
    "\n",
    "De esta manera, $\\lambda=n\\log\\left(\\frac{|S|}{|S_W|}\\right)$. Como siempre, rechazamos $H_0$ cuando $\\lambda$ sea suficientemente grande. Es decir, cuando la variabilidad suponiendo que todas las medias son iguales, medida por $|S|$, sea mucho mayor que la variabilidad cuando permitimos que las medias de los grupos sean distintas, medida por $|S_W|$.\n",
    "\n",
    "Su distribución, para $n$ grande, es una chi cuadrada con $p(G-1)$ grados de libertad.\n"
   ]
  },
  {
   "cell_type": "markdown",
   "metadata": {},
   "source": [
    "**Ejemplo.** Tomemos la tabla de iris. Por lo tanto $n=150$, $p=4$ y $G=3$ (hay tres grupos). Además $n_1=n_2=n_3=50$. El contraste que haremos será\n",
    "\n",
    "$$\\left\\{\\begin{array}{c}H_0:\\vec{\\mu_1},\\vec{\\mu_2},\\vec{\\mu_3}=\\vec{\\mu_0}\\\\H_1:\\mbox{no todas son iguales}\\end{array}\\right.$$"
   ]
  },
  {
   "cell_type": "code",
   "execution_count": null,
   "metadata": {},
   "outputs": [],
   "source": [
    "## x1=largo del sépalo; x2=ancho del sépalo; x3=largo del pétalo; x4=ancho del pétalo\n",
    "n=150\n",
    "p=4\n",
    "G=3\n",
    "n1=50\n",
    "n2=50\n",
    "n3=50"
   ]
  },
  {
   "cell_type": "markdown",
   "metadata": {},
   "source": [
    "Calculemos el vector de medias muestrales de cada grupo:"
   ]
  },
  {
   "cell_type": "code",
   "execution_count": null,
   "metadata": {},
   "outputs": [],
   "source": [
    "setosa <- iris[iris$Species == \"setosa\", ]\n",
    "versicolor <- iris[iris$Species == \"versicolor\",]\n",
    "virginica <- iris[iris$Species == \"virginica\",]"
   ]
  },
  {
   "cell_type": "code",
   "execution_count": null,
   "metadata": {},
   "outputs": [],
   "source": [
    "medias_setosa = colMeans(setosa[,1:4])\n",
    "medias_versicolor = colMeans(versicolor[,1:4])\n",
    "medias_virginica = colMeans(virginica[,1:4])\n",
    "\n",
    "medias_setosa\n",
    "medias_versicolor\n",
    "medias_virginica\n"
   ]
  },
  {
   "cell_type": "markdown",
   "metadata": {},
   "source": [
    "Calculamos $S$ y $S_W$"
   ]
  },
  {
   "cell_type": "code",
   "execution_count": null,
   "metadata": {},
   "outputs": [],
   "source": [
    "S = cov(iris[,1:4])\n",
    "S"
   ]
  },
  {
   "cell_type": "code",
   "execution_count": null,
   "metadata": {},
   "outputs": [],
   "source": [
    "SW = ((n1-1)*cov(setosa[,1:4])+(n2-1)*cov(versicolor[,1:4])+(n3-1)*cov(virginica[,1:4]))/n\n",
    "SW"
   ]
  },
  {
   "cell_type": "markdown",
   "metadata": {},
   "source": [
    "Calculamos $\\lambda=n\\log\\left(\\frac{|S|}{|S_W|}\\right)$"
   ]
  },
  {
   "cell_type": "code",
   "execution_count": null,
   "metadata": {},
   "outputs": [],
   "source": [
    "lambda = n * log(det(S)/det(SW))\n",
    "lambda"
   ]
  },
  {
   "cell_type": "markdown",
   "metadata": {},
   "source": [
    "Finalmente elegimos el valor de significación $\\alpha$ (recordemos que $NC+\\alpha=1$). En este ejemplo tomemos $\\alpha=0.01$\n",
    "\n"
   ]
  },
  {
   "cell_type": "code",
   "execution_count": null,
   "metadata": {},
   "outputs": [],
   "source": [
    "alpha = 0.01\n",
    "\n",
    "umbral = qchisq(alpha,p*(G-1))\n",
    "umbral"
   ]
  },
  {
   "cell_type": "markdown",
   "metadata": {},
   "source": [
    "Como $\\lambda>>\\mbox{umbral}$, rechazamos $H_0$."
   ]
  },
  {
   "cell_type": "markdown",
   "metadata": {},
   "source": [
    "Gráficamente podemos ver las medias deben ser diferentes. Con el contraste vimos analíticamente que esto es cierto."
   ]
  },
  {
   "cell_type": "code",
   "execution_count": null,
   "metadata": {},
   "outputs": [],
   "source": [
    "library(ggplot2)\n",
    "pairs(iris[,1:4],pch=19,col=c(\"blue\",\"green\",\"orange\")[iris[,5]])"
   ]
  }
 ],
 "metadata": {
  "kernelspec": {
   "display_name": "R",
   "language": "R",
   "name": "ir"
  },
  "language_info": {
   "codemirror_mode": "r",
   "file_extension": ".r",
   "mimetype": "text/x-r-source",
   "name": "R",
   "pygments_lexer": "r",
   "version": "3.6.1"
  }
 },
 "nbformat": 4,
 "nbformat_minor": 4
}
